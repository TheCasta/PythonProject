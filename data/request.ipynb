{
 "cells": [
  {
   "cell_type": "code",
   "execution_count": 2,
   "metadata": {},
   "outputs": [],
   "source": [
    "# Connessione al database\n",
    "import sqlite3\n",
    "\n",
    "connection = sqlite3.connect(\"database.sqlite\")\n",
    "\n",
    "cur = connection.cursor()"
   ]
  },
  {
   "cell_type": "code",
   "execution_count": 3,
   "metadata": {},
   "outputs": [
    {
     "data": {
      "text/plain": [
       "<sqlite3.Cursor at 0x7f527427e9c0>"
      ]
     },
     "execution_count": 3,
     "metadata": {},
     "output_type": "execute_result"
    }
   ],
   "source": [
    "#Eliminazione della tabella \"Tasks\"\n",
    "cur.execute(\"DROP TABLE tasks;\")"
   ]
  },
  {
   "cell_type": "code",
   "execution_count": 4,
   "metadata": {},
   "outputs": [
    {
     "data": {
      "text/plain": [
       "<sqlite3.Cursor at 0x7f527427e9c0>"
      ]
     },
     "execution_count": 4,
     "metadata": {},
     "output_type": "execute_result"
    }
   ],
   "source": [
    "#Creazione della tabella \"Tasks\" se non esiste\n",
    "cur.execute(\"\"\"CREATE TABLE IF NOT EXISTS tasks (\n",
    "                                    id INTEGER PRIMARY KEY AUTOINCREMENT,\n",
    "                                    title TEXT NOT NULL,\n",
    "                                    description TEXT NOT NULL,\n",
    "                                    progress INTEGER DEFAULT 0 CHECK (progress >= 0 AND progress <= 100),\n",
    "                                    created_at TIMESTAMP DEFAULT CURRENT_TIMESTAMP,\n",
    "                                    due_date TIMESTAMP\n",
    "                                );\"\"\")"
   ]
  }
 ],
 "metadata": {
  "kernelspec": {
   "display_name": ".venv",
   "language": "python",
   "name": "python3"
  },
  "language_info": {
   "codemirror_mode": {
    "name": "ipython",
    "version": 3
   },
   "file_extension": ".py",
   "mimetype": "text/x-python",
   "name": "python",
   "nbconvert_exporter": "python",
   "pygments_lexer": "ipython3",
   "version": "3.10.12"
  }
 },
 "nbformat": 4,
 "nbformat_minor": 2
}
